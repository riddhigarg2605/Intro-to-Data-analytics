{
  "nbformat": 4,
  "nbformat_minor": 0,
  "metadata": {
    "colab": {
      "name": "IDA Assignment 1.ipynb",
      "provenance": [],
      "collapsed_sections": [],
      "authorship_tag": "ABX9TyOPhm5M5o14vazaR3VBvQWf",
      "include_colab_link": true
    },
    "kernelspec": {
      "name": "python3",
      "display_name": "Python 3"
    },
    "language_info": {
      "name": "python"
    }
  },
  "cells": [
    {
      "cell_type": "markdown",
      "metadata": {
        "id": "view-in-github",
        "colab_type": "text"
      },
      "source": [
        "<a href=\"https://colab.research.google.com/github/riddhigarg2605/Intro-to-Data-analytics/blob/main/IDA_Assignment_1.ipynb\" target=\"_parent\"><img src=\"https://colab.research.google.com/assets/colab-badge.svg\" alt=\"Open In Colab\"/></a>"
      ]
    },
    {
      "cell_type": "code",
      "metadata": {
        "colab": {
          "base_uri": "https://localhost:8080/"
        },
        "id": "RAnii02wa1wi",
        "outputId": "dad6a345-b607-44c5-8d86-64ae3614641a"
      },
      "source": [
        "from matplotlib import pyplot as plt\n",
        "import pandas as pd\n",
        "import numpy as np\n",
        "from scipy.stats import pearsonr\n",
        "import seaborn as sns \n",
        "url = 'https://gist.githubusercontent.com/seankross/a412dfbd88b3db70b74b/raw/5f23f993cd87c283ce766e7ac6b329ee7cc2e1d1/mtcars.csv'\n",
        "cars = pd.read_csv(url)\n",
        "print(cars)"
      ],
      "execution_count": null,
      "outputs": [
        {
          "output_type": "stream",
          "text": [
            "                  model   mpg  cyl   disp   hp  ...   qsec  vs  am  gear  carb\n",
            "0             Mazda RX4  21.0    6  160.0  110  ...  16.46   0   1     4     4\n",
            "1         Mazda RX4 Wag  21.0    6  160.0  110  ...  17.02   0   1     4     4\n",
            "2            Datsun 710  22.8    4  108.0   93  ...  18.61   1   1     4     1\n",
            "3        Hornet 4 Drive  21.4    6  258.0  110  ...  19.44   1   0     3     1\n",
            "4     Hornet Sportabout  18.7    8  360.0  175  ...  17.02   0   0     3     2\n",
            "5               Valiant  18.1    6  225.0  105  ...  20.22   1   0     3     1\n",
            "6            Duster 360  14.3    8  360.0  245  ...  15.84   0   0     3     4\n",
            "7             Merc 240D  24.4    4  146.7   62  ...  20.00   1   0     4     2\n",
            "8              Merc 230  22.8    4  140.8   95  ...  22.90   1   0     4     2\n",
            "9              Merc 280  19.2    6  167.6  123  ...  18.30   1   0     4     4\n",
            "10            Merc 280C  17.8    6  167.6  123  ...  18.90   1   0     4     4\n",
            "11           Merc 450SE  16.4    8  275.8  180  ...  17.40   0   0     3     3\n",
            "12           Merc 450SL  17.3    8  275.8  180  ...  17.60   0   0     3     3\n",
            "13          Merc 450SLC  15.2    8  275.8  180  ...  18.00   0   0     3     3\n",
            "14   Cadillac Fleetwood  10.4    8  472.0  205  ...  17.98   0   0     3     4\n",
            "15  Lincoln Continental  10.4    8  460.0  215  ...  17.82   0   0     3     4\n",
            "16    Chrysler Imperial  14.7    8  440.0  230  ...  17.42   0   0     3     4\n",
            "17             Fiat 128  32.4    4   78.7   66  ...  19.47   1   1     4     1\n",
            "18          Honda Civic  30.4    4   75.7   52  ...  18.52   1   1     4     2\n",
            "19       Toyota Corolla  33.9    4   71.1   65  ...  19.90   1   1     4     1\n",
            "20        Toyota Corona  21.5    4  120.1   97  ...  20.01   1   0     3     1\n",
            "21     Dodge Challenger  15.5    8  318.0  150  ...  16.87   0   0     3     2\n",
            "22          AMC Javelin  15.2    8  304.0  150  ...  17.30   0   0     3     2\n",
            "23           Camaro Z28  13.3    8  350.0  245  ...  15.41   0   0     3     4\n",
            "24     Pontiac Firebird  19.2    8  400.0  175  ...  17.05   0   0     3     2\n",
            "25            Fiat X1-9  27.3    4   79.0   66  ...  18.90   1   1     4     1\n",
            "26        Porsche 914-2  26.0    4  120.3   91  ...  16.70   0   1     5     2\n",
            "27         Lotus Europa  30.4    4   95.1  113  ...  16.90   1   1     5     2\n",
            "28       Ford Pantera L  15.8    8  351.0  264  ...  14.50   0   1     5     4\n",
            "29         Ferrari Dino  19.7    6  145.0  175  ...  15.50   0   1     5     6\n",
            "30        Maserati Bora  15.0    8  301.0  335  ...  14.60   0   1     5     8\n",
            "31           Volvo 142E  21.4    4  121.0  109  ...  18.60   1   1     4     2\n",
            "\n",
            "[32 rows x 12 columns]\n"
          ],
          "name": "stdout"
        }
      ]
    },
    {
      "cell_type": "code",
      "metadata": {
        "colab": {
          "base_uri": "https://localhost:8080/"
        },
        "id": "UMKXeZUcRHCe",
        "outputId": "16155d40-39c7-4c00-b685-7f0790ed1844"
      },
      "source": [
        "#Q1 \n",
        "\n",
        "maxmpgIndex = cars['mpg'].idxmax()\n",
        "maxmpg = cars['mpg'].max()\n",
        "print(maxmpgIndex) \n",
        "print(cars['model'].iloc[maxmpgIndex])\n",
        "print (maxmpg)"
      ],
      "execution_count": null,
      "outputs": [
        {
          "output_type": "stream",
          "text": [
            "19\n",
            "Toyota Corolla\n",
            "33.9\n"
          ],
          "name": "stdout"
        }
      ]
    },
    {
      "cell_type": "code",
      "metadata": {
        "colab": {
          "base_uri": "https://localhost:8080/"
        },
        "id": "23yaUdniRXlm",
        "outputId": "2d26e205-c180-4b5b-88a3-c87f036f26b3"
      },
      "source": [
        "minmpgIndex = cars['mpg'].idxmin()\n",
        "print(minmpgIndex) \n",
        "minmpg = cars['mpg'].min()\n",
        "print(cars['model'].iloc[minmpgIndex])\n",
        "print(minmpg)"
      ],
      "execution_count": null,
      "outputs": [
        {
          "output_type": "stream",
          "text": [
            "14\n",
            "Cadillac Fleetwood\n",
            "10.4\n"
          ],
          "name": "stdout"
        }
      ]
    },
    {
      "cell_type": "code",
      "metadata": {
        "id": "JEsSnv_CR2D0"
      },
      "source": [
        "#This implies that Toyota Corolla (at index 19) has the best mpg and Cadillac fleetwood (at index 14) has the least mpg"
      ],
      "execution_count": null,
      "outputs": []
    },
    {
      "cell_type": "code",
      "metadata": {
        "colab": {
          "base_uri": "https://localhost:8080/"
        },
        "id": "7vetMuBtS45j",
        "outputId": "c707bc7d-21eb-47f7-b13c-c50b6118d9c3"
      },
      "source": [
        "#Q2\n",
        "\n",
        "minhpIndex = cars['hp'].idxmin()\n",
        "print(minhpIndex)\n",
        "print(cars['model'].iloc[minhpIndex])\n",
        "minhp = cars['hp'].min()\n",
        "print(minhp)"
      ],
      "execution_count": null,
      "outputs": [
        {
          "output_type": "stream",
          "text": [
            "18\n",
            "Honda Civic\n",
            "52\n"
          ],
          "name": "stdout"
        }
      ]
    },
    {
      "cell_type": "code",
      "metadata": {
        "colab": {
          "base_uri": "https://localhost:8080/"
        },
        "id": "w7J_LMJvTVNO",
        "outputId": "f1fae3fb-ae66-4d84-fc7c-32052ae1303e"
      },
      "source": [
        "maxqsecIndex = cars['qsec'].idxmax()\n",
        "maxqsec = cars['qsec'].max()\n",
        "print(maxqsecIndex) \n",
        "print(cars['model'].iloc[maxqsecIndex])\n",
        "print (maxqsec)"
      ],
      "execution_count": null,
      "outputs": [
        {
          "output_type": "stream",
          "text": [
            "8\n",
            "Merc 230\n",
            "22.9\n"
          ],
          "name": "stdout"
        }
      ]
    },
    {
      "cell_type": "code",
      "metadata": {
        "id": "b9FGmmPnTk6m"
      },
      "source": [
        "#This implies that Honda Civic (at index 18) has the worst horspower and Merc 230 (at index 8) has the best qsec"
      ],
      "execution_count": null,
      "outputs": []
    },
    {
      "cell_type": "code",
      "metadata": {
        "id": "LUXg5Mc2T07i"
      },
      "source": [
        "from numpy import percentile"
      ],
      "execution_count": null,
      "outputs": []
    },
    {
      "cell_type": "code",
      "metadata": {
        "colab": {
          "base_uri": "https://localhost:8080/"
        },
        "id": "Mn-4Iyj0UN-q",
        "outputId": "2089e20e-6cba-45a2-feca-e9a0124d16ef"
      },
      "source": [
        "#Q3\n",
        "\n",
        "quartiles = percentile(cars.disp, [25, 50, 75])\n",
        "print(quartiles)"
      ],
      "execution_count": null,
      "outputs": [
        {
          "output_type": "stream",
          "text": [
            "[120.825 196.3   326.   ]\n"
          ],
          "name": "stdout"
        }
      ]
    },
    {
      "cell_type": "code",
      "metadata": {
        "colab": {
          "base_uri": "https://localhost:8080/"
        },
        "id": "2lmC2tWOUqFg",
        "outputId": "8e5be629-8c0d-45cf-bfe6-50e9371eb453"
      },
      "source": [
        "data_min, data_max = cars.disp.min(), cars.disp.max()\n",
        "print(data_min)\n",
        "print(data_max)"
      ],
      "execution_count": null,
      "outputs": [
        {
          "output_type": "stream",
          "text": [
            "71.1\n",
            "472.0\n"
          ],
          "name": "stdout"
        }
      ]
    },
    {
      "cell_type": "code",
      "metadata": {
        "colab": {
          "base_uri": "https://localhost:8080/"
        },
        "id": "CnG9BI6PU04G",
        "outputId": "05cba457-67d7-41c8-b460-84f87f22d791"
      },
      "source": [
        "#printing the five number summary\n",
        "print('Min: %.3f' % data_min)\n",
        "print('Q1: %.3f' % quartiles[0])\n",
        "print('Median (Q2): %.3f' % quartiles[1])\n",
        "print('Q3: %.3f' % quartiles[2])\n",
        "print('Max: %.3f' % data_max)"
      ],
      "execution_count": null,
      "outputs": [
        {
          "output_type": "stream",
          "text": [
            "Min: 71.100\n",
            "Q1: 120.825\n",
            "Median (Q2): 196.300\n",
            "Q3: 326.000\n",
            "Max: 472.000\n"
          ],
          "name": "stdout"
        }
      ]
    },
    {
      "cell_type": "code",
      "metadata": {
        "colab": {
          "base_uri": "https://localhost:8080/",
          "height": 265
        },
        "id": "NbuHoZdeVQ23",
        "outputId": "15580964-4580-483e-fbfb-4f09499291ef"
      },
      "source": [
        "plt.boxplot(cars.disp)\n",
        "plt.show()"
      ],
      "execution_count": null,
      "outputs": [
        {
          "output_type": "display_data",
          "data": {
            "image/png": "[encoded data removed]",
            "text/plain": [
              "<Figure size 432x288 with 1 Axes>"
            ]
          },
          "metadata": {
            "tags": [],
            "needs_background": "light"
          }
        }
      ]
    },
    {
      "cell_type": "code",
      "metadata": {
        "colab": {
          "base_uri": "https://localhost:8080/",
          "height": 279
        },
        "id": "jQ2UgwMVV3e2",
        "outputId": "a5ba6527-73e5-4726-f6c9-78e56ae7024f"
      },
      "source": [
        "#Q4\n",
        "\n",
        "plt.grid(True)\n",
        "sns.histplot(cars.mpg, bins = 15, kde = True)\n",
        "plt.show()"
      ],
      "execution_count": null,
      "outputs": [
        {
          "output_type": "display_data",
          "data": {
            "image/png": "[encoded data removed]",
            "text/plain": [
              "<Figure size 432x288 with 1 Axes>"
            ]
          },
          "metadata": {
            "tags": [],
            "needs_background": "light"
          }
        }
      ]
    },
    {
      "cell_type": "code",
      "metadata": {
        "id": "zcjxa6WBV8qF"
      },
      "source": [
        "#This distribution shows that the most cars have mpg between 15-20, least number of cars have their mpg from 25-30.\n",
        "#Since the plot resembles the shape of standard deviation, 15-20 can act as the mean value"
      ],
      "execution_count": null,
      "outputs": []
    },
    {
      "cell_type": "code",
      "metadata": {
        "colab": {
          "base_uri": "https://localhost:8080/"
        },
        "id": "rX-WUF4qW7BL",
        "outputId": "2147bb0f-1d0a-4399-f00e-5b857b1394b6"
      },
      "source": [
        "#Q5 \n",
        "\n",
        "#in am column, 0 implies automatic and 1 implies manual \n",
        "mpg_automatic = cars['mpg'].loc[cars['am'] ==0 ]\n",
        "avgmpg_automatic = mpg_automatic.mean()\n",
        "print('avg mpg for automatic cars: %.3f' %avgmpg_automatic)\n"
      ],
      "execution_count": null,
      "outputs": [
        {
          "output_type": "stream",
          "text": [
            "avg mpg for automatic cars: 17.147\n"
          ],
          "name": "stdout"
        }
      ]
    },
    {
      "cell_type": "code",
      "metadata": {
        "colab": {
          "base_uri": "https://localhost:8080/"
        },
        "id": "MkWbWl3LZTjD",
        "outputId": "130ba8d8-ee88-463a-f176-d05ad629394a"
      },
      "source": [
        "mpg_manual = cars['mpg'].loc[cars['am'] ==1 ]\n",
        "avgmpg_manual = mpg_manual.mean()\n",
        "print('avg mpg for manual cars: %.3f' %avgmpg_manual)"
      ],
      "execution_count": null,
      "outputs": [
        {
          "output_type": "stream",
          "text": [
            "avg mpg for manual cars: 24.392\n"
          ],
          "name": "stdout"
        }
      ]
    },
    {
      "cell_type": "code",
      "metadata": {
        "id": "JqpxoYl4ZjVt"
      },
      "source": [
        "#average mpg for automatic cars is 17.147 and for manual ones it is 24.392"
      ],
      "execution_count": null,
      "outputs": []
    },
    {
      "cell_type": "code",
      "metadata": {
        "colab": {
          "base_uri": "https://localhost:8080/",
          "height": 547
        },
        "id": "AS-dAR4sZsKw",
        "outputId": "a01fb513-7ae4-4aab-8ec1-c4d9ca5326fb"
      },
      "source": [
        "#Q6\n",
        "\n",
        "plt.subplot(1, 2, 1)\n",
        "plt.boxplot(mpg_automatic)\n",
        "plt.title('MPG for automatic')\n",
        "plt.subplot(1, 2, 2)\n",
        "plt.boxplot(mpg_manual)\n",
        "plt.title('MPG for manual')\n",
        "plt.show()\n",
        "sns.boxplot(x = 'am', y = 'mpg', data = cars)\n",
        "plt.show()"
      ],
      "execution_count": null,
      "outputs": [
        {
          "output_type": "display_data",
          "data": {
            "image/png": "[encoded data removed]",
            "text/plain": [
              "<Figure size 432x288 with 2 Axes>"
            ]
          },
          "metadata": {
            "tags": [],
            "needs_background": "light"
          }
        },
        {
          "output_type": "display_data",
          "data": {
            "image/png": "[encoded data removed]",
            "text/plain": [
              "<Figure size 432x288 with 1 Axes>"
            ]
          },
          "metadata": {
            "tags": [],
            "needs_background": "light"
          }
        }
      ]
    },
    {
      "cell_type": "code",
      "metadata": {
        "id": "FzCSuX6ibnZ2"
      },
      "source": [
        "#It can be seen that the average fuel efficiency for manually driven cars is higher than that of automatic ones.\n",
        "#However the minimum and maximumn score has a higher range in manual than automatic\n",
        "#Manual distribution has a positive skew because (quartile 3 - quartile 2) > (quartile 2 - quartile 1)\n",
        "#Automatic has a lower median and a slightly negative skew because (quartile 3 - quartile 2) < (quartile 2 - quartile 1)"
      ],
      "execution_count": null,
      "outputs": []
    },
    {
      "cell_type": "code",
      "metadata": {
        "colab": {
          "base_uri": "https://localhost:8080/",
          "height": 312
        },
        "id": "cKLDMAKZbSNN",
        "outputId": "44b4a818-c1e4-40bc-ff24-203cdfb331ee"
      },
      "source": [
        "#Q7\n",
        "\n",
        "x = cars.wt\n",
        "y = cars.mpg\n",
        "sns.regplot(x=x,y=y)\n",
        "plt.title('weight vs mpg')\n",
        "plt.xlabel('weight')\n",
        "plt.ylabel('mpg')"
      ],
      "execution_count": null,
      "outputs": [
        {
          "output_type": "execute_result",
          "data": {
            "text/plain": [
              "Text(0, 0.5, 'mpg')"
            ]
          },
          "metadata": {
            "tags": []
          },
          "execution_count": 39
        },
        {
          "output_type": "display_data",
          "data": {
            "image/png": "[encoded data removed]",
            "text/plain": [
              "<Figure size 432x288 with 1 Axes>"
            ]
          },
          "metadata": {
            "tags": [],
            "needs_background": "light"
          }
        }
      ]
    },
    {
      "cell_type": "code",
      "metadata": {
        "id": "ivAF09A6bnCE"
      },
      "source": [
        "#From the scatter plot, it can be seen that as the weight increases, mpg decreases and vice-versa.\n",
        "# They have an inversely proportional relationship with each other "
      ],
      "execution_count": null,
      "outputs": []
    },
    {
      "cell_type": "code",
      "metadata": {
        "colab": {
          "base_uri": "https://localhost:8080/",
          "height": 547
        },
        "id": "RVc87TlFcnO9",
        "outputId": "20cb5d4f-3420-4e3d-fd1e-a0ac06054b5e"
      },
      "source": [
        "#Q8\n",
        "\n",
        "mpg_gears3 = cars['mpg'].loc[cars['gear'] ==3 ]\n",
        "mpg_gears4 = cars['mpg'].loc[cars['gear'] ==4 ]\n",
        "mpg_gears5 = cars['mpg'].loc[cars['gear'] ==5 ]\n",
        "plt.subplot(1, 3, 1)\n",
        "plt.boxplot(mpg_gears3)\n",
        "plt.title('MPG for 3 gears')\n",
        "plt.subplot(1, 3, 2)\n",
        "plt.boxplot(mpg_gears4)\n",
        "plt.title('MPG for 4 gears')\n",
        "plt.subplot(1, 3, 3)\n",
        "plt.boxplot(mpg_gears5)\n",
        "plt.title('MPG for 5 gears')\n",
        "plt.show()\n",
        "sns.boxplot(x = 'gear', y = 'mpg', data = cars)\n",
        "plt.show()"
      ],
      "execution_count": null,
      "outputs": [
        {
          "output_type": "display_data",
          "data": {
            "image/png": "[encoded data removed]",
            "text/plain": [
              "<Figure size 432x288 with 3 Axes>"
            ]
          },
          "metadata": {
            "tags": [],
            "needs_background": "light"
          }
        },
        {
          "output_type": "display_data",
          "data": {
            "image/png": "[encoded data removed]",
            "text/plain": [
              "<Figure size 432x288 with 1 Axes>"
            ]
          },
          "metadata": {
            "tags": [],
            "needs_background": "light"
          }
        }
      ]
    },
    {
      "cell_type": "code",
      "metadata": {
        "id": "q6-rJyyCflVH"
      },
      "source": [
        "#MPG for 3 gears has the lowest median\n",
        "#MPG for all the gears seem positively skewed since (quartile 3 - quartile 2) > (quartile 2 - quartile 1)\n",
        "#MPG for 4 gears has the highest data range and highest median"
      ],
      "execution_count": null,
      "outputs": []
    },
    {
      "cell_type": "code",
      "metadata": {
        "colab": {
          "base_uri": "https://localhost:8080/"
        },
        "id": "FXGGpbhldZHT",
        "outputId": "f036a248-e31a-4209-a242-f236d5fbee44"
      },
      "source": [
        "#Q9\n",
        "\n",
        "crosstab = pd.crosstab(cars.hp, cars.cyl)\n",
        "print(crosstab)"
      ],
      "execution_count": null,
      "outputs": [
        {
          "output_type": "stream",
          "text": [
            "cyl  4  6  8\n",
            "hp          \n",
            "52   1  0  0\n",
            "62   1  0  0\n",
            "65   1  0  0\n",
            "66   2  0  0\n",
            "91   1  0  0\n",
            "93   1  0  0\n",
            "95   1  0  0\n",
            "97   1  0  0\n",
            "105  0  1  0\n",
            "109  1  0  0\n",
            "110  0  3  0\n",
            "113  1  0  0\n",
            "123  0  2  0\n",
            "150  0  0  2\n",
            "175  0  1  2\n",
            "180  0  0  3\n",
            "205  0  0  1\n",
            "215  0  0  1\n",
            "230  0  0  1\n",
            "245  0  0  2\n",
            "264  0  0  1\n",
            "335  0  0  1\n"
          ],
          "name": "stdout"
        }
      ]
    },
    {
      "cell_type": "code",
      "metadata": {
        "colab": {
          "base_uri": "https://localhost:8080/",
          "height": 265
        },
        "id": "hFg6rD3YB8lQ",
        "outputId": "d44bd8d8-b6ad-4bcd-ff69-00fa9c7796b5"
      },
      "source": [
        "plt.scatter(cars.hp, cars.cyl)\n",
        "plt.show()"
      ],
      "execution_count": null,
      "outputs": [
        {
          "output_type": "display_data",
          "data": {
            "image/png": "[encoded data removed]",
            "text/plain": [
              "<Figure size 432x288 with 1 Axes>"
            ]
          },
          "metadata": {
            "tags": [],
            "needs_background": "light"
          }
        }
      ]
    },
    {
      "cell_type": "code",
      "metadata": {
        "id": "VSg-xZKGf5g1"
      },
      "source": [
        "#It can be seen that if there are 4 cylinders, horsepower is least, and it's maximum for 8 cylinders\n",
        "#The two attributes have a directly proportional relationship"
      ],
      "execution_count": null,
      "outputs": []
    },
    {
      "cell_type": "code",
      "metadata": {
        "colab": {
          "base_uri": "https://localhost:8080/",
          "height": 279
        },
        "id": "aq9OluVSd31Y",
        "outputId": "a1971603-96c9-4198-e02a-1dff28f7b168"
      },
      "source": [
        "#Q10\n",
        "\n",
        "plt.scatter(cars.disp, cars.hp)\n",
        "plt.ylabel('gross horsepower')\n",
        "plt.xlabel('displacement')\n",
        "plt.show()"
      ],
      "execution_count": null,
      "outputs": [
        {
          "output_type": "display_data",
          "data": {
            "image/png": "[encoded data removed]",
            "text/plain": [
              "<Figure size 432x288 with 1 Axes>"
            ]
          },
          "metadata": {
            "tags": [],
            "needs_background": "light"
          }
        }
      ]
    },
    {
      "cell_type": "code",
      "metadata": {
        "colab": {
          "base_uri": "https://localhost:8080/"
        },
        "id": "olMHAJCCev0y",
        "outputId": "938daeec-fd22-4380-b8b0-eb4bf10d7a62"
      },
      "source": [
        "#finding the correlation coefficient\n",
        "corr, _ = pearsonr(cars.disp, cars.hp)\n",
        "print('correlation coefficient: %.3f' % corr)\n"
      ],
      "execution_count": null,
      "outputs": [
        {
          "output_type": "stream",
          "text": [
            "correlation coefficient: 0.791\n"
          ],
          "name": "stdout"
        }
      ]
    },
    {
      "cell_type": "code",
      "metadata": {
        "id": "MuY2iqvtgt1l"
      },
      "source": [
        "#strength of linear relationship between the two attributes is 0.79 that is almost 80%\n",
        "#Also a positive coefficient indicates that when the value of displacement increases, the value of hp also tends to increase and vice versa"
      ],
      "execution_count": null,
      "outputs": []
    }
  ]
}